{
 "cells": [
  {
   "cell_type": "code",
   "execution_count": 1,
   "metadata": {},
   "outputs": [],
   "source": [
    "from scipy.ndimage import convolve\n",
    "import numpy as np\n",
    "from PIL import Image\n",
    "from PIL import ImageOps"
   ]
  },
  {
   "cell_type": "code",
   "execution_count": 18,
   "metadata": {},
   "outputs": [],
   "source": [
    "def vetorize_to_file(arr, name, path, mi = 50, ma = 10000):\n",
    "    \n",
    "    divisor = max(arr)\n",
    "    with open(path + name + '.txt', 'w') as file:\n",
    "        file.write('[')\n",
    "        for i in range(len(arr)):\n",
    "            if i == len(arr)-1:\n",
    "                file.write(str((arr[i]/divisor)*(ma - mi) + mi ) + ']')\n",
    "            else:\n",
    "                file.write(str((arr[i]/divisor)*(ma - mi) + mi ) + ', ')"
   ]
  },
  {
   "cell_type": "code",
   "execution_count": 12,
   "metadata": {},
   "outputs": [],
   "source": [
    "def resize_image(max_h, max_w, img):\n",
    "    \n",
    "    size = img.size\n",
    "    amax = np.argmax(size)\n",
    "    \n",
    "    if amax == 0:\n",
    "        scale = max_h/size[amax]\n",
    "    else:\n",
    "        scale = max_w/size[amax]\n",
    "    \n",
    "    new_size = (int(size[0]*scale), int(size[1]*scale))\n",
    "    \n",
    "    return img.resize(new_size)"
   ]
  },
  {
   "cell_type": "code",
   "execution_count": 13,
   "metadata": {},
   "outputs": [],
   "source": [
    "# Padroes de configuração\n",
    "\n",
    "PATH = 'exp1/'\n",
    "IMG_NAME = 'img_padrao.png'\n",
    "MAX_HEIGHT = 75\n",
    "MAX_WIDTH = 75\n",
    "\n",
    "# Kernels\n",
    "\n",
    "kernel_edge_1 = np.array([np.array(\n",
    "    [[1,  0, -1],\n",
    "     [0,  0,  0],\n",
    "     [-1, 0,  1]]) for i in range(3)])\n",
    "\n",
    "kernel_edge_2 = np.array([np.array(\n",
    "    [[0,  1, 0],\n",
    "     [1, -4, 1],\n",
    "     [0,  1, 0]]) for i in range(3)])\n",
    "\n",
    "kernel_edge_3 = np.array([np.array(\n",
    "    [[-1, -1, -1],\n",
    "     [-1,  8, -1],\n",
    "     [-1, -1, -1]]) for i in range(3)])"
   ]
  },
  {
   "cell_type": "code",
   "execution_count": 14,
   "metadata": {},
   "outputs": [
    {
     "data": {
      "image/png": "[encoded data removed]",
      "text/plain": [
       "<PIL.Image.Image image mode=RGBA size=75x66 at 0x7F3E33989510>"
      ]
     },
     "execution_count": 14,
     "metadata": {},
     "output_type": "execute_result"
    }
   ],
   "source": [
    "# Visualização da imagem\n",
    "\n",
    "img = resize_image(MAX_HEIGHT, MAX_WIDTH, Image.open(PATH+IMG_NAME))\n",
    "img"
   ]
  },
  {
   "cell_type": "code",
   "execution_count": 15,
   "metadata": {},
   "outputs": [],
   "source": [
    "# Conversão aos formatos LA e HSV\n",
    "\n",
    "imgLA = img.convert(\"LA\")\n",
    "imgHSV = img.convert(\"HSV\")"
   ]
  },
  {
   "cell_type": "code",
   "execution_count": 16,
   "metadata": {},
   "outputs": [],
   "source": [
    "# Convoluções\n",
    "\n",
    "imgEDGE1 = Image.fromarray(convolve(np.asarray(imgLA), kernel_edge_1))\n",
    "imgEDGE2 = Image.fromarray(convolve(np.asarray(imgLA), kernel_edge_2))\n",
    "imgEDGE3 = Image.fromarray(convolve(np.asarray(imgLA), kernel_edge_3))"
   ]
  },
  {
   "cell_type": "code",
   "execution_count": 17,
   "metadata": {},
   "outputs": [],
   "source": [
    "# Escrevendo nos arquivos\n",
    "\n",
    "sufix_name = IMG_NAME.split('.')[0]\n",
    "\n",
    "# Tonalidade ([H]SV)\n",
    "mi, ma = 0, 88\n",
    "file_name = sufix_name + '_tonalidade'\n",
    "Image.fromarray(np.asarray(imgHSV)[:,:,0]).save(PATH + file_name + '.png') # save image\n",
    "arr = np.asarray(imgHSV, dtype = np.float)[:,:,0].reshape(-1)\n",
    "vetorize_to_file(arr, file_name, PATH, mi = mi, ma = ma)\n",
    "\n",
    "# Saturação (H[S]V)\n",
    "mi, ma = 0, 1\n",
    "file_name = sufix_name + '_saturacao'\n",
    "Image.fromarray(np.asarray(imgHSV)[:,:,1]).save(PATH + file_name + '.png') # save image\n",
    "arr = np.asarray(imgHSV, dtype = np.float)[:,:,1].reshape(-1)\n",
    "vetorize_to_file(arr, file_name, PATH, mi = mi, ma = ma)\n",
    "\n",
    "# Brilho (HS[V])\n",
    "mi, ma = 0, 1\n",
    "file_name = sufix_name + '_brilho'\n",
    "Image.fromarray(np.asarray(imgHSV)[:,:,2]).save(PATH + file_name + '.png') # save image\n",
    "arr = np.asarray(imgHSV, dtype = np.float)[:,:,2].reshape(-1)\n",
    "vetorize_to_file(arr, file_name, PATH, mi = mi, ma = ma)\n",
    "\n",
    "# Preto e Branco\n",
    "mi, ma = 0, 2\n",
    "file_name = sufix_name + '_pb'\n",
    "Image.fromarray(np.asarray(imgLA)[:,:,0]).save(PATH + file_name + '.png') # save image\n",
    "arr = np.asarray(imgLA, dtype = np.float)[:,:, 0].reshape(-1)\n",
    "vetorize_to_file(arr, file_name, PATH, mi = mi, ma = ma)\n",
    "\n",
    "# Edge1\n",
    "mi, ma = 0, 1\n",
    "file_name = sufix_name + '_edge1'\n",
    "Image.fromarray(np.asarray(imgEDGE1)[:,:,0]).save(PATH + file_name + '.png') # save image\n",
    "arr = np.asarray(imgEDGE1, dtype = np.float)[:,:, 1].reshape(-1)\n",
    "vetorize_to_file(arr, file_name, PATH, mi = mi, ma = ma)\n",
    "\n",
    "# Edge2\n",
    "mi, ma = 0, 1\n",
    "file_name = sufix_name + '_edge2'\n",
    "Image.fromarray(np.asarray(imgEDGE2)[:,:,0]).save(PATH + file_name + '.png') # save image\n",
    "arr = np.asarray(imgEDGE1, dtype = np.float)[:,:, 1].reshape(-1)\n",
    "vetorize_to_file(arr, file_name, PATH, mi = mi, ma = ma)\n",
    "\n",
    "# Edge3\n",
    "mi, ma = 0, 1\n",
    "file_name = sufix_name + '_edge3'\n",
    "Image.fromarray(np.asarray(imgEDGE3)[:,:,0]).save(PATH + file_name + '.png') # save image\n",
    "arr = np.asarray(imgEDGE1, dtype = np.float)[:,:, 1].reshape(-1)\n",
    "vetorize_to_file(arr, file_name, PATH, mi = mi, ma = ma)"
   ]
  }
 ],
 "metadata": {
  "kernelspec": {
   "display_name": "Python 3",
   "language": "python",
   "name": "python3"
  },
  "language_info": {
   "codemirror_mode": {
    "name": "ipython",
    "version": 3
   },
   "file_extension": ".py",
   "mimetype": "text/x-python",
   "name": "python",
   "nbconvert_exporter": "python",
   "pygments_lexer": "ipython3",
   "version": "3.7.6"
  }
 },
 "nbformat": 4,
 "nbformat_minor": 4
}
